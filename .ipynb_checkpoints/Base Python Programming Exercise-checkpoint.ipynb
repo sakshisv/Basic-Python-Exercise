{
 "cells": [
  {
   "cell_type": "markdown",
   "id": "a277cba3",
   "metadata": {},
   "source": [
    "## Python Basic Programming Exercises"
   ]
  },
  {
   "cell_type": "markdown",
   "id": "5ad790a6",
   "metadata": {},
   "source": [
    "#### Q1: What is the output of following expression\n",
    "5 + 4 * 9 % (3 + 1) / 6 - 1"
   ]
  },
  {
   "cell_type": "code",
   "execution_count": null,
   "id": "fbe98905",
   "metadata": {},
   "outputs": [],
   "source": [
    "5 + 4 * 9 % (3 + 1) / 6 - 1\n",
    "5 + 4 * 9 % 4 / 6 - 1\n",
    "5 + 36 % 4 / 6 - 1\n",
    "5 + 0 / 6 - 1\n",
    "5 + 0.0 - 1\n",
    "5.0 - 1\n",
    "4.0"
   ]
  },
  {
   "cell_type": "markdown",
   "id": "c5b96ca0",
   "metadata": {},
   "source": [
    "#### Q2: Write a program to check if a Number is Odd or Even. Take number as a input from user at runtime."
   ]
  },
  {
   "cell_type": "code",
   "execution_count": 13,
   "id": "c8e34fcf",
   "metadata": {},
   "outputs": [
    {
     "name": "stdout",
     "output_type": "stream",
     "text": [
      "Enter a number: 9\n",
      "Entered number is odd.\n"
     ]
    }
   ],
   "source": [
    "val = int(input(\"Enter a number: \"))\n",
    "if (val % 2) == 0:\n",
    "    print(\"Entered number is even.\")\n",
    "else:\n",
    "    print(\"Entered number is odd.\")"
   ]
  },
  {
   "cell_type": "markdown",
   "id": "524fabdb",
   "metadata": {},
   "source": [
    "#### Q3: Write a program to display the multiplication table by taking a number as input. \n",
    "[Hint : Use print statement inside of a loop]"
   ]
  },
  {
   "cell_type": "code",
   "execution_count": 18,
   "id": "1c4bf4cf",
   "metadata": {},
   "outputs": [
    {
     "name": "stdout",
     "output_type": "stream",
     "text": [
      "Enter the number you want the multiplication table of: 13\n",
      "The multiplication table of: 13\n",
      "13 X 1 = 13\n",
      "13 X 2 = 26\n",
      "13 X 3 = 39\n",
      "13 X 4 = 52\n",
      "13 X 5 = 65\n",
      "13 X 6 = 78\n",
      "13 X 7 = 91\n",
      "13 X 8 = 104\n",
      "13 X 9 = 117\n",
      "13 X 10 = 130\n"
     ]
    }
   ],
   "source": [
    "num = int(input(\"Enter the number you want the multiplication table of: \"))\n",
    "print(\"The multiplication table of:\", num)\n",
    "for count in range(1,11):\n",
    "    print(num, 'X', count, '=', num*count)"
   ]
  },
  {
   "cell_type": "markdown",
   "id": "f2653d74",
   "metadata": {},
   "source": [
    "#### Q4: Write a program which will find all numbers between 2000 and 3200 which are divisible by 7 but are not a multiple of 5.\n",
    " \n",
    "Note: The numbers obtained should be printed in a comma-separated sequence on a single line."
   ]
  },
  {
   "cell_type": "code",
   "execution_count": 32,
   "id": "11363086",
   "metadata": {},
   "outputs": [
    {
     "name": "stdout",
     "output_type": "stream",
     "text": [
      "2002, 2009, 2016, 2023, 2037, 2044, 2051, 2058, 2072, 2079, 2086, 2093, 2107, 2114, 2121, 2128, 2142, 2149, 2156, 2163, 2177, 2184, 2191, 2198, 2212, 2219, 2226, 2233, 2247, 2254, 2261, 2268, 2282, 2289, 2296, 2303, 2317, 2324, 2331, 2338, 2352, 2359, 2366, 2373, 2387, 2394, 2401, 2408, 2422, 2429, 2436, 2443, 2457, 2464, 2471, 2478, 2492, 2499, 2506, 2513, 2527, 2534, 2541, 2548, 2562, 2569, 2576, 2583, 2597, 2604, 2611, 2618, 2632, 2639, 2646, 2653, 2667, 2674, 2681, 2688, 2702, 2709, 2716, 2723, 2737, 2744, 2751, 2758, 2772, 2779, 2786, 2793, 2807, 2814, 2821, 2828, 2842, 2849, 2856, 2863, 2877, 2884, 2891, 2898, 2912, 2919, 2926, 2933, 2947, 2954, 2961, 2968, 2982, 2989, 2996, 3003, 3017, 3024, 3031, 3038, 3052, 3059, 3066, 3073, 3087, 3094, 3101, 3108, 3122, 3129, 3136, 3143, 3157, 3164, 3171, 3178, 3192, 3199, "
     ]
    }
   ],
   "source": [
    "for var in range(2000,3201):\n",
    "    if (var % 7 == 0) and (var % 5 != 0):\n",
    "        print(var, end = ', ')"
   ]
  },
  {
   "cell_type": "code",
   "execution_count": 34,
   "id": "7f910723",
   "metadata": {},
   "outputs": [
    {
     "name": "stdout",
     "output_type": "stream",
     "text": [
      "[2002, 2009, 2016, 2023, 2037, 2044, 2051, 2058, 2072, 2079, 2086, 2093, 2107, 2114, 2121, 2128, 2142, 2149, 2156, 2163, 2177, 2184, 2191, 2198, 2212, 2219, 2226, 2233, 2247, 2254, 2261, 2268, 2282, 2289, 2296, 2303, 2317, 2324, 2331, 2338, 2352, 2359, 2366, 2373, 2387, 2394, 2401, 2408, 2422, 2429, 2436, 2443, 2457, 2464, 2471, 2478, 2492, 2499, 2506, 2513, 2527, 2534, 2541, 2548, 2562, 2569, 2576, 2583, 2597, 2604, 2611, 2618, 2632, 2639, 2646, 2653, 2667, 2674, 2681, 2688, 2702, 2709, 2716, 2723, 2737, 2744, 2751, 2758, 2772, 2779, 2786, 2793, 2807, 2814, 2821, 2828, 2842, 2849, 2856, 2863, 2877, 2884, 2891, 2898, 2912, 2919, 2926, 2933, 2947, 2954, 2961, 2968, 2982, 2989, 2996, 3003, 3017, 3024, 3031, 3038, 3052, 3059, 3066, 3073, 3087, 3094, 3101, 3108, 3122, 3129, 3136, 3143, 3157, 3164, 3171, 3178, 3192, 3199]\n"
     ]
    }
   ],
   "source": [
    "print([var for var in range(2000,3201) if (var % 7 == 0) and (var % 5 != 0)])"
   ]
  },
  {
   "cell_type": "markdown",
   "id": "458bf154",
   "metadata": {},
   "source": [
    "#### Q5: Count the elements of each datatype inside the list and display in output\n",
    "[2, 3, 'Py', '10', 1, 'SQL', 5.5, True, 3, 'John', None, 7]    "
   ]
  },
  {
   "cell_type": "code",
   "execution_count": 47,
   "id": "b92ee3ca",
   "metadata": {},
   "outputs": [
    {
     "name": "stdout",
     "output_type": "stream",
     "text": [
      "Count of integers: 5\n",
      "Count of strings: 4\n",
      "Count of floats: 1\n",
      "Count of bools: 1\n",
      "Count of none: 1\n"
     ]
    }
   ],
   "source": [
    "list1 = [2, 3, 'Py', '10', 1, 'SQL', 5.5, True, 3, 'John', None, 7]\n",
    "c_int = 0\n",
    "c_str = 0\n",
    "c_float = 0\n",
    "c_bool = 0\n",
    "c_none = 0\n",
    "for var in list1:\n",
    "    if type(var) == int:\n",
    "        c_int += 1\n",
    "    elif type(var) == str:\n",
    "        c_str += 1\n",
    "    elif type(var) == float:\n",
    "        c_float += 1\n",
    "    elif type(var) == bool:\n",
    "        c_bool += 1\n",
    "    else:\n",
    "        c_none += 1\n",
    "print(\"Count of integers:\", c_int)\n",
    "print(\"Count of strings:\", c_str)\n",
    "print(\"Count of floats:\", c_float)\n",
    "print(\"Count of bools:\", c_bool)\n",
    "print(\"Count of none:\", c_none)"
   ]
  },
  {
   "cell_type": "markdown",
   "id": "01cfa6cc",
   "metadata": {},
   "source": [
    "#### Q6: Add all values from the list with numeric datatypes \n",
    "[2, 3, 'Py', '10', 1, 'SQL', 5.5, True, 3, 'John', None, 7] "
   ]
  },
  {
   "cell_type": "code",
   "execution_count": 51,
   "id": "e5e7722d",
   "metadata": {},
   "outputs": [
    {
     "name": "stdout",
     "output_type": "stream",
     "text": [
      "Sum of values of numeric datatypes: 21.5\n"
     ]
    }
   ],
   "source": [
    "list1 = [2, 3, 'Py', '10', 1, 'SQL', 5.5, True, 3, 'John', None, 7]\n",
    "\n",
    "for var in list1:\n",
    "    if type(var) == int or type(var) == float:\n",
    "        sum += var\n",
    "print(\"Sum of values of numeric datatypes:\", sum)"
   ]
  },
  {
   "cell_type": "markdown",
   "id": "bdaf180a",
   "metadata": {},
   "source": [
    "#### Q7: Concat all str datatypes with hyphen as a delimiter\n",
    "[2, 3, 'Py', '10', 1, 'SQL', 5.5, True, 3, 'John', None, 7] "
   ]
  },
  {
   "cell_type": "code",
   "execution_count": 69,
   "id": "f729cf0d",
   "metadata": {},
   "outputs": [
    {
     "name": "stdout",
     "output_type": "stream",
     "text": [
      "Py-10-SQL-John\n"
     ]
    }
   ],
   "source": [
    "list1 = [2, 3, 'Py', '10', 1, 'SQL', 5.5, True, 3, 'John', None, 7]\n",
    "\n",
    "list2 = [var for var in list1 if type(var) == str]\n",
    "print('-'.join(list2))"
   ]
  },
  {
   "cell_type": "markdown",
   "id": "5479ba4a",
   "metadata": {},
   "source": [
    "#### Q8: Write a UDF that takes list as input and returns sum of all numbers (exclude bool) and count of all str \n",
    "[2, 3, 'Py', '10', 1, 'SQL', 5.5, True, 3, 'John', None, 7] \n",
    "    \n",
    "#### Hint:\n",
    "\n",
    "def my_func:\n",
    "    # your code\n",
    "        \n",
    "my_func(l1)\n",
    "#### output --> {'Sum': xxx, 'Count_of_Strs': xxx}"
   ]
  },
  {
   "cell_type": "code",
   "execution_count": 91,
   "id": "0cafabb5",
   "metadata": {},
   "outputs": [
    {
     "data": {
      "text/plain": [
       "{'Sum of all numbers': 21.5, 'Count of strings': 4}"
      ]
     },
     "execution_count": 91,
     "metadata": {},
     "output_type": "execute_result"
    }
   ],
   "source": [
    "list1 = [2, 3, 'Py', '10', 1, 'SQL', 5.5, True, 3, 'John', None, 7]\n",
    "\n",
    "def my_func(list1):\n",
    "    sum_int = 0\n",
    "    count_str = 0\n",
    "    dict1 = {}\n",
    "    \n",
    "    for var in list1:\n",
    "        if type(var) == int or type(var) == float:\n",
    "            sum_int += var\n",
    "        elif type(var) == str:\n",
    "            count_str += 1\n",
    "    dict1['Sum of all numbers'] = sum_int\n",
    "    dict1['Count of strings'] = count_str\n",
    "    return dict1\n",
    "\n",
    "my_func(list1)"
   ]
  },
  {
   "cell_type": "markdown",
   "id": "04ed842b",
   "metadata": {},
   "source": [
    "#### Q9: Get only odd numbers from the following list and store the numbers in new list\n",
    "li = [5, 7, 22, 97, 54, 62, 77, 23, 73, 61]\n",
    "\n",
    "i. Use loops to get the answer\n",
    "    \n",
    "ii. Use list comprehensions\n",
    "   \n",
    "iii. Use lambda function with filter"
   ]
  },
  {
   "cell_type": "code",
   "execution_count": 94,
   "id": "201edc98",
   "metadata": {},
   "outputs": [
    {
     "data": {
      "text/plain": [
       "[5, 7, 97, 77, 23, 73, 61]"
      ]
     },
     "execution_count": 94,
     "metadata": {},
     "output_type": "execute_result"
    }
   ],
   "source": [
    "# i. Using loops\n",
    "\n",
    "li = [5, 7, 22, 97, 54, 62, 77, 23, 73, 61]\n",
    "new_li = []\n",
    "for var in li:\n",
    "    if var % 2 != 0:\n",
    "        new_li.append(var)\n",
    "\n",
    "new_li"
   ]
  },
  {
   "cell_type": "code",
   "execution_count": 98,
   "id": "6b5a3174",
   "metadata": {},
   "outputs": [
    {
     "data": {
      "text/plain": [
       "[5, 7, 97, 77, 23, 73, 61]"
      ]
     },
     "execution_count": 98,
     "metadata": {},
     "output_type": "execute_result"
    }
   ],
   "source": [
    "# ii Using list comprehension\n",
    "\n",
    "li = [5, 7, 22, 97, 54, 62, 77, 23, 73, 61]\n",
    "\n",
    "new_li = [var for var in li if var % 2 != 0]\n",
    "new_li"
   ]
  },
  {
   "cell_type": "code",
   "execution_count": 101,
   "id": "5b5edfdc",
   "metadata": {},
   "outputs": [
    {
     "data": {
      "text/plain": [
       "[5, 7, 97, 77, 23, 73, 61]"
      ]
     },
     "execution_count": 101,
     "metadata": {},
     "output_type": "execute_result"
    }
   ],
   "source": [
    "# iii using lanbda function with filter\n",
    "\n",
    "li = [5, 7, 22, 97, 54, 62, 77, 23, 73, 61]\n",
    "\n",
    "new_li = list(filter(lambda a: a % 2 != 0, li))\n",
    "new_li"
   ]
  },
  {
   "cell_type": "markdown",
   "id": "8228ce84",
   "metadata": {},
   "source": [
    "#### Q10: Write a UDF to return the descriptives [sum, count, min, mean, max] for a list of n number of input numbers."
   ]
  },
  {
   "cell_type": "code",
   "execution_count": 132,
   "id": "3ba731c8",
   "metadata": {},
   "outputs": [
    {
     "name": "stdout",
     "output_type": "stream",
     "text": [
      "Sum: 15 , Count: 5 , Min: 1 , Max: 6 , Mean: 3.0\n"
     ]
    }
   ],
   "source": [
    "import numpy as np\n",
    "\n",
    "def udf_descriptives(*args):\n",
    "    sum_n = np.sum(args)\n",
    "    count_n = len(args)\n",
    "    min_n = np.min(args)\n",
    "    max_n = np.max(args)\n",
    "    mean_n = np.mean(args)\n",
    "        \n",
    "    print('Sum:', sum_n, ', Count:', count_n, ', Min:', min_n, ', Max:', max_n, ', Mean:', mean_n)\n",
    "\n",
    "udf_descriptives(1,2,2,4,6)"
   ]
  },
  {
   "cell_type": "markdown",
   "id": "bdbe412c",
   "metadata": {},
   "source": [
    "#### Q11: Write an udf to calculate the area of different shapes and take shape and dimensions as arguments to udf as follows : \n",
    "\n",
    "1. square which has side\n",
    "2. rectangle which has length and width\n",
    "3. circle which has radius\n",
    "\n",
    "The shape should be a positional argument and it's dimensions are taken as kwargs\n",
    "\n",
    "Perform proper validation for the user inputs and then calculate area.\n",
    "\n",
    "E.g. if shape is square, ensure kwargs has \"side\" and if so, then you may return the area, else display appropriate error message like \"Please enter 'side' for a square\""
   ]
  },
  {
   "cell_type": "code",
   "execution_count": 33,
   "id": "ac9aaffb",
   "metadata": {},
   "outputs": [
    {
     "name": "stdout",
     "output_type": "stream",
     "text": [
      "The area of circle is: 12.56\n"
     ]
    }
   ],
   "source": [
    "def area_shapes(shape, **kwargs):\n",
    "    shape = shape.lower()\n",
    "    if shape == 'square':\n",
    "        if 'side' in kwargs:\n",
    "            Area = kwargs['side']**2\n",
    "            print(\"The area of square is:\", Area)\n",
    "        else:\n",
    "            print(\"Please enter 'side' of square.\")\n",
    "            \n",
    "    elif shape == 'rectangle':\n",
    "        if 'length' in kwargs:\n",
    "            if 'width' in kwargs:\n",
    "                Area = kwargs['length'] * kwargs['width']\n",
    "                print(\"The area of rectangle is:\", Area)\n",
    "            else:\n",
    "                print(\"Please enter 'width' of rectangle.\")\n",
    "        else:\n",
    "            print(\"Please enter 'length' of rectangle.\")\n",
    "            \n",
    "    elif shape == 'circle':\n",
    "        if 'radius' in kwargs:\n",
    "            Area = 3.14 * (kwargs['radius']**2)\n",
    "            print(\"The area of circle is:\", Area)\n",
    "        else:\n",
    "            print(\"Please enter 'radius' of circle.\")\n",
    "        \n",
    "area_shapes('Circle', radius = 2)"
   ]
  },
  {
   "cell_type": "markdown",
   "id": "10cabf67",
   "metadata": {},
   "source": [
    "#### Q12: Write a UDF to reconcile the values within two lists.\n",
    "    l1 = ['January', 'February', 'March', 'May', 'June', 'September', 'December']\n",
    "    l2 = ['January', 'February', 'April', 'June', 'October', 'December']\n",
    "\n",
    "#### Hint:\n",
    "def func(l1, l2):\n",
    "    your code here...\n",
    "    \n",
    "#### Output:\n",
    "{'Matched': ['January', 'February', 'June', 'December'],\n",
    "    'Only in l1': ['March', 'May', 'September'],\n",
    "        'Only in l2': ['April', 'October']}"
   ]
  },
  {
   "cell_type": "code",
   "execution_count": 51,
   "id": "40cd50d0",
   "metadata": {},
   "outputs": [
    {
     "data": {
      "text/plain": [
       "{'Matched': ['December', 'June', 'January', 'February'],\n",
       " 'Only in l1': ['May', 'March', 'September'],\n",
       " 'Only in l2': ['October', 'April']}"
      ]
     },
     "execution_count": 51,
     "metadata": {},
     "output_type": "execute_result"
    }
   ],
   "source": [
    "l1 = ['January', 'February', 'March', 'May', 'June', 'September', 'December']\n",
    "l2 = ['January', 'February', 'April', 'June', 'October', 'December']\n",
    "\n",
    "def func(l1, l2):\n",
    "    l1_new = set(l1)\n",
    "    l2_new = set(l2)\n",
    "    output = {}\n",
    "    \n",
    "    output['Matched'] = list(l1_new.intersection(l2_new))\n",
    "    output['Only in l1'] = list(l1_new - l2_new)\n",
    "    output['Only in l2'] = list(l2_new - l1_new)\n",
    "    return output\n",
    "    \n",
    "func(l1,l2)"
   ]
  },
  {
   "cell_type": "markdown",
   "id": "769d4fc9",
   "metadata": {},
   "source": [
    "#### Q13: Write a UDF to check if a number is prime or not."
   ]
  },
  {
   "cell_type": "code",
   "execution_count": 160,
   "id": "1bf0b624",
   "metadata": {},
   "outputs": [
    {
     "name": "stdout",
     "output_type": "stream",
     "text": [
      "Number is prime.\n"
     ]
    }
   ],
   "source": [
    "def isprime(n):\n",
    "    if n == 1:\n",
    "        print(\"Number is not prime.\")\n",
    "    elif n == 2:\n",
    "        print(\"Number is prime.\")\n",
    "    elif n > 1:\n",
    "        for i in range(2, n):\n",
    "            if n % i == 0:\n",
    "                print(\"Number is not prime.\")\n",
    "                break\n",
    "        else:\n",
    "            print(\"Number is prime.\")\n",
    "            \n",
    "isprime(11)"
   ]
  },
  {
   "cell_type": "markdown",
   "id": "5e25b415",
   "metadata": {},
   "source": [
    "#### Q14. Write a program which can compute the factorial of a given numbers. \n",
    "- The results should be printed in a comma-separated sequence on a single line. \n",
    "- input() function can be used for getting user(console) input\n",
    "\n",
    "Suppose the input is supplied to the program:  8  \n",
    "Then, the output should be:  40320 \n",
    "\n",
    "#### Hints: In case of input data being supplied to the question, it should be assumed to be a console input."
   ]
  },
  {
   "cell_type": "code",
   "execution_count": 10,
   "id": "e486ec21",
   "metadata": {},
   "outputs": [
    {
     "name": "stdout",
     "output_type": "stream",
     "text": [
      "Enter a number: 5\n",
      "Factorial of 5 is 120\n"
     ]
    }
   ],
   "source": [
    "num = int(input(\"Enter a number: \"))\n",
    "\n",
    "output = 1\n",
    "if num < 0:\n",
    "    print(\"Please enter a positive number.\")\n",
    "elif num == 0:\n",
    "    print(\"Factorial of 0 is 1.\")\n",
    "else:\n",
    "    for var in range(1, num + 1):\n",
    "        output *= var\n",
    "    print(\"Factorial of\", num, \"is\", output)"
   ]
  },
  {
   "cell_type": "markdown",
   "id": "8f89e8ce",
   "metadata": {},
   "source": [
    "#### Q15. With a given integral number n, write a program to generate a dictionary that contains (i, i*i) such that is an integral number between 1 and n (both included). and then the program should print the dictionary.\n",
    "\n",
    "Suppose the following input is supplied to the program: 8\n",
    "\n",
    "Then, the output should be: {1: 1, 2: 4, 3: 9, 4: 16, 5: 25, 6: 36, 7: 49, 8: 64}\n",
    "\n",
    "#### Hints: In case of input data being supplied to the question, it should be assumed to be a console input. Consider using dict()"
   ]
  },
  {
   "cell_type": "code",
   "execution_count": 28,
   "id": "776458d4",
   "metadata": {},
   "outputs": [
    {
     "name": "stdout",
     "output_type": "stream",
     "text": [
      "Enter a number: 6\n"
     ]
    },
    {
     "data": {
      "text/plain": [
       "{1: 1, 2: 4, 3: 9, 4: 16, 5: 25, 6: 36}"
      ]
     },
     "execution_count": 28,
     "metadata": {},
     "output_type": "execute_result"
    }
   ],
   "source": [
    "n = int(input(\"Enter a number: \"))\n",
    "dict1 = {i:i*i for i in range(1, n+1)}\n",
    "dict1"
   ]
  },
  {
   "cell_type": "markdown",
   "id": "6c097268",
   "metadata": {},
   "source": [
    "#### Q16. Write a program which accepts a sequence of comma-separated numbers from console and generate a list and a tuple which contains every number.\n",
    "Suppose the following input is supplied to the program: 34,67,55,33,12,98\n",
    "\n",
    "Then, the output should be: ['34', '67', '55', '33', '12', '98'] ('34', '67', '55', '33', '12', '98')\n",
    "\n",
    "#### Hints: In case of input data being supplied to the question, it should be assumed to be a console input. you may use tuple() method to convert list to tuple\n"
   ]
  },
  {
   "cell_type": "code",
   "execution_count": 48,
   "id": "02caf54c",
   "metadata": {},
   "outputs": [
    {
     "name": "stdout",
     "output_type": "stream",
     "text": [
      "Enter a sequence of comma-separated numbers: 11,22,33,44\n",
      "['11', '22', '33', '44'] ('11', '22', '33', '44')\n"
     ]
    }
   ],
   "source": [
    "nums = input(\"Enter a sequence of comma-separated numbers: \")\n",
    "\n",
    "list1 = nums.split(\",\")\n",
    "tuple1 = tuple(list1)\n",
    "\n",
    "print(list1, end = \" \") \n",
    "print(tuple1)"
   ]
  },
  {
   "cell_type": "markdown",
   "id": "a9a6c7f3",
   "metadata": {},
   "source": [
    "#### Q17. Write a program that accepts a comma separated sequence of words as input and prints the words in a comma-separated sequence after sorting them alphabetically.\n",
    "\n",
    "Suppose the following input is supplied to the program: without,hello,bag,world\n",
    "\n",
    "Then, the output should be: bag,hello,without,world\n",
    "\n",
    "#### Hints: In case of input data being supplied to the question, it should be assumed to be a console input."
   ]
  },
  {
   "cell_type": "code",
   "execution_count": 67,
   "id": "19279f5c",
   "metadata": {},
   "outputs": [
    {
     "name": "stdout",
     "output_type": "stream",
     "text": [
      "Enter a sequence of comma-separated words: without,hello,bag,world\n",
      "bag,hello,without,world\n"
     ]
    }
   ],
   "source": [
    "words = input(\"Enter a sequence of comma-separated words: \")\n",
    "\n",
    "output = ','.join(sorted(words.split(\",\")))\n",
    "print(output)"
   ]
  },
  {
   "cell_type": "markdown",
   "id": "273c5e33",
   "metadata": {},
   "source": [
    "#### Q18. Write a program that accepts a sequence of whitespace separated words as input and prints the words after removing all duplicate words and sorting them alphanumerically.\n",
    "Suppose the following input is supplied to the program: hello world and practice makes perfect and hello world again\n",
    "\n",
    "Then, the output should be: again and hello makes perfect practice world\n",
    "\n",
    "#### Hints: In case of input data being supplied to the question, it should be assumed to be a console input. We use set container to remove duplicated data automatically and then use sorted() to sort the data."
   ]
  },
  {
   "cell_type": "code",
   "execution_count": 72,
   "id": "b5923417",
   "metadata": {},
   "outputs": [
    {
     "name": "stdout",
     "output_type": "stream",
     "text": [
      "Enter a sequence of whitespace separated words: hello world and practice makes perfect and hello world again\n",
      "again and hello makes perfect practice world\n"
     ]
    }
   ],
   "source": [
    "words = input(\"Enter a sequence of whitespace separated words: \")\n",
    "\n",
    "output = ' '.join(sorted(set(words.split(\" \"))))\n",
    "print(output)"
   ]
  },
  {
   "cell_type": "markdown",
   "id": "cf285a2d",
   "metadata": {},
   "source": [
    "#### Q19. Write a program that accepts a sentence and calculate the number of upper case letters and lower case letters.\n",
    "Suppose the following input is supplied to the program: Hello world!\n",
    "\n",
    "Then, the output should be: UPPER CASE 1 LOWER CASE 9\n",
    "\n",
    "#### Hints: In case of input data being supplied to the question, it should be assumed to be a console input."
   ]
  },
  {
   "cell_type": "code",
   "execution_count": 86,
   "id": "653baf19",
   "metadata": {},
   "outputs": [
    {
     "name": "stdout",
     "output_type": "stream",
     "text": [
      "Enter a sentence: Hello world!\n",
      "UPPER CASE 1 LOWER CASE 9\n"
     ]
    }
   ],
   "source": [
    "sen = input(\"Enter a sentence: \")\n",
    "\n",
    "upper = sum([1 for var in sen if var.isupper()])\n",
    "lower = sum([1 for var in sen if var.islower()])\n",
    "\n",
    "print(\"UPPER CASE\", upper, \"LOWER CASE\", lower)"
   ]
  },
  {
   "cell_type": "markdown",
   "id": "d0f3228d",
   "metadata": {},
   "source": [
    "#### Q20. Write a program that takes a string and returns reversed string. i.e. if input is \"abcd123\" output should be \"321dcba\""
   ]
  },
  {
   "cell_type": "code",
   "execution_count": null,
   "id": "aed78e8f",
   "metadata": {},
   "outputs": [],
   "source": []
  },
  {
   "cell_type": "code",
   "execution_count": null,
   "id": "e9a8a5d1",
   "metadata": {},
   "outputs": [],
   "source": []
  },
  {
   "cell_type": "code",
   "execution_count": null,
   "id": "784d4036",
   "metadata": {},
   "outputs": [],
   "source": []
  },
  {
   "cell_type": "code",
   "execution_count": null,
   "id": "96224e9e",
   "metadata": {},
   "outputs": [],
   "source": []
  }
 ],
 "metadata": {
  "kernelspec": {
   "display_name": "Python 3 (ipykernel)",
   "language": "python",
   "name": "python3"
  },
  "language_info": {
   "codemirror_mode": {
    "name": "ipython",
    "version": 3
   },
   "file_extension": ".py",
   "mimetype": "text/x-python",
   "name": "python",
   "nbconvert_exporter": "python",
   "pygments_lexer": "ipython3",
   "version": "3.9.12"
  }
 },
 "nbformat": 4,
 "nbformat_minor": 5
}
