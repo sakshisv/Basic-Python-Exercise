{
 "cells": [
  {
   "cell_type": "markdown",
   "id": "28bb3197",
   "metadata": {},
   "source": [
    "## Python Basic Programming Exercises"
   ]
  },
  {
   "cell_type": "markdown",
   "id": "fb2808f1",
   "metadata": {},
   "source": [
    "#### Q1: What is the output of following expression\n",
    "5 + 4 * 9 % (3 + 1) / 6 - 1"
   ]
  },
  {
   "cell_type": "code",
   "execution_count": null,
   "id": "208c2ba6",
   "metadata": {},
   "outputs": [],
   "source": [
    "5 + 4 * 9 % (3 + 1) / 6 - 1\n",
    "5 + 4 * 9 % 4 / 6 - 1\n",
    "5 + 36 % 4 / 6 - 1\n",
    "5 + 0 / 6 - 1\n",
    "5 + 0.0 - 1\n",
    "5.0 - 1\n",
    "4.0"
   ]
  },
  {
   "cell_type": "markdown",
   "id": "735e5b3b",
   "metadata": {},
   "source": [
    "#### Q2: Write a program to check if a Number is Odd or Even. Take number as a input from user at runtime."
   ]
  },
  {
   "cell_type": "code",
   "execution_count": 13,
   "id": "dd1281e5",
   "metadata": {},
   "outputs": [
    {
     "name": "stdout",
     "output_type": "stream",
     "text": [
      "Enter a number: 9\n",
      "Entered number is odd.\n"
     ]
    }
   ],
   "source": [
    "val = int(input(\"Enter a number: \"))\n",
    "if (val % 2) == 0:\n",
    "    print(\"Entered number is even.\")\n",
    "else:\n",
    "    print(\"Entered number is odd.\")"
   ]
  },
  {
   "cell_type": "markdown",
   "id": "05b749c8",
   "metadata": {},
   "source": [
    "#### Q3: Write a program to display the multiplication table by taking a number as input. \n",
    "[Hint : Use print statement inside of a loop]"
   ]
  },
  {
   "cell_type": "code",
   "execution_count": 18,
   "id": "0537ac46",
   "metadata": {},
   "outputs": [
    {
     "name": "stdout",
     "output_type": "stream",
     "text": [
      "Enter the number you want the multiplication table of: 13\n",
      "The multiplication table of: 13\n",
      "13 X 1 = 13\n",
      "13 X 2 = 26\n",
      "13 X 3 = 39\n",
      "13 X 4 = 52\n",
      "13 X 5 = 65\n",
      "13 X 6 = 78\n",
      "13 X 7 = 91\n",
      "13 X 8 = 104\n",
      "13 X 9 = 117\n",
      "13 X 10 = 130\n"
     ]
    }
   ],
   "source": [
    "num = int(input(\"Enter the number you want the multiplication table of: \"))\n",
    "print(\"The multiplication table of:\", num)\n",
    "for count in range(1,11):\n",
    "    print(num, 'X', count, '=', num*count)"
   ]
  },
  {
   "cell_type": "markdown",
   "id": "fcbe7f23",
   "metadata": {},
   "source": [
    "#### Q4: Write a program which will find all numbers between 2000 and 3200 which are divisible by 7 but are not a multiple of 5.\n",
    " \n",
    "Note: The numbers obtained should be printed in a comma-separated sequence on a single line."
   ]
  },
  {
   "cell_type": "code",
   "execution_count": 32,
   "id": "8e669e1a",
   "metadata": {},
   "outputs": [
    {
     "name": "stdout",
     "output_type": "stream",
     "text": [
      "2002, 2009, 2016, 2023, 2037, 2044, 2051, 2058, 2072, 2079, 2086, 2093, 2107, 2114, 2121, 2128, 2142, 2149, 2156, 2163, 2177, 2184, 2191, 2198, 2212, 2219, 2226, 2233, 2247, 2254, 2261, 2268, 2282, 2289, 2296, 2303, 2317, 2324, 2331, 2338, 2352, 2359, 2366, 2373, 2387, 2394, 2401, 2408, 2422, 2429, 2436, 2443, 2457, 2464, 2471, 2478, 2492, 2499, 2506, 2513, 2527, 2534, 2541, 2548, 2562, 2569, 2576, 2583, 2597, 2604, 2611, 2618, 2632, 2639, 2646, 2653, 2667, 2674, 2681, 2688, 2702, 2709, 2716, 2723, 2737, 2744, 2751, 2758, 2772, 2779, 2786, 2793, 2807, 2814, 2821, 2828, 2842, 2849, 2856, 2863, 2877, 2884, 2891, 2898, 2912, 2919, 2926, 2933, 2947, 2954, 2961, 2968, 2982, 2989, 2996, 3003, 3017, 3024, 3031, 3038, 3052, 3059, 3066, 3073, 3087, 3094, 3101, 3108, 3122, 3129, 3136, 3143, 3157, 3164, 3171, 3178, 3192, 3199, "
     ]
    }
   ],
   "source": [
    "for var in range(2000,3201):\n",
    "    if (var % 7 == 0) and (var % 5 != 0):\n",
    "        print(var, end = ', ')"
   ]
  },
  {
   "cell_type": "code",
   "execution_count": 34,
   "id": "f138d7f2",
   "metadata": {},
   "outputs": [
    {
     "name": "stdout",
     "output_type": "stream",
     "text": [
      "[2002, 2009, 2016, 2023, 2037, 2044, 2051, 2058, 2072, 2079, 2086, 2093, 2107, 2114, 2121, 2128, 2142, 2149, 2156, 2163, 2177, 2184, 2191, 2198, 2212, 2219, 2226, 2233, 2247, 2254, 2261, 2268, 2282, 2289, 2296, 2303, 2317, 2324, 2331, 2338, 2352, 2359, 2366, 2373, 2387, 2394, 2401, 2408, 2422, 2429, 2436, 2443, 2457, 2464, 2471, 2478, 2492, 2499, 2506, 2513, 2527, 2534, 2541, 2548, 2562, 2569, 2576, 2583, 2597, 2604, 2611, 2618, 2632, 2639, 2646, 2653, 2667, 2674, 2681, 2688, 2702, 2709, 2716, 2723, 2737, 2744, 2751, 2758, 2772, 2779, 2786, 2793, 2807, 2814, 2821, 2828, 2842, 2849, 2856, 2863, 2877, 2884, 2891, 2898, 2912, 2919, 2926, 2933, 2947, 2954, 2961, 2968, 2982, 2989, 2996, 3003, 3017, 3024, 3031, 3038, 3052, 3059, 3066, 3073, 3087, 3094, 3101, 3108, 3122, 3129, 3136, 3143, 3157, 3164, 3171, 3178, 3192, 3199]\n"
     ]
    }
   ],
   "source": [
    "print([var for var in range(2000,3201) if (var % 7 == 0) and (var % 5 != 0)])"
   ]
  },
  {
   "cell_type": "markdown",
   "id": "c115fa5b",
   "metadata": {},
   "source": [
    "#### Q5: Count the elements of each datatype inside the list and display in output\n",
    "[2, 3, 'Py', '10', 1, 'SQL', 5.5, True, 3, 'John', None, 7]    "
   ]
  },
  {
   "cell_type": "code",
   "execution_count": 47,
   "id": "e18b42e5",
   "metadata": {},
   "outputs": [
    {
     "name": "stdout",
     "output_type": "stream",
     "text": [
      "Count of integers: 5\n",
      "Count of strings: 4\n",
      "Count of floats: 1\n",
      "Count of bools: 1\n",
      "Count of none: 1\n"
     ]
    }
   ],
   "source": [
    "list1 = [2, 3, 'Py', '10', 1, 'SQL', 5.5, True, 3, 'John', None, 7]\n",
    "c_int = 0\n",
    "c_str = 0\n",
    "c_float = 0\n",
    "c_bool = 0\n",
    "c_none = 0\n",
    "for var in list1:\n",
    "    if type(var) == int:\n",
    "        c_int += 1\n",
    "    elif type(var) == str:\n",
    "        c_str += 1\n",
    "    elif type(var) == float:\n",
    "        c_float += 1\n",
    "    elif type(var) == bool:\n",
    "        c_bool += 1\n",
    "    else:\n",
    "        c_none += 1\n",
    "print(\"Count of integers:\", c_int)\n",
    "print(\"Count of strings:\", c_str)\n",
    "print(\"Count of floats:\", c_float)\n",
    "print(\"Count of bools:\", c_bool)\n",
    "print(\"Count of none:\", c_none)"
   ]
  },
  {
   "cell_type": "markdown",
   "id": "5313eb48",
   "metadata": {},
   "source": [
    "#### Q6: Add all values from the list with numeric datatypes \n",
    "[2, 3, 'Py', '10', 1, 'SQL', 5.5, True, 3, 'John', None, 7] "
   ]
  },
  {
   "cell_type": "code",
   "execution_count": 50,
   "id": "0b1dbff0",
   "metadata": {},
   "outputs": [
    {
     "name": "stdout",
     "output_type": "stream",
     "text": [
      "Sum of values of numeric datatypes: 21.5\n"
     ]
    }
   ],
   "source": [
    "sum = 0\n",
    "list1 = [2, 3, 'Py', '10', 1, 'SQL', 5.5, True, 3, 'John', None, 7]\n",
    "for var in list1:\n",
    "    if type(var) == int or type(var) == float:\n",
    "        sum += var\n",
    "print(\"Sum of values of numeric datatypes:\", sum)"
   ]
  },
  {
   "cell_type": "markdown",
   "id": "4c02e0c2",
   "metadata": {},
   "source": [
    "#### Q7: Concat all str datatypes with hyphen as a delimiter\n",
    "[2, 3, 'Py', '10', 1, 'SQL', 5.5, True, 3, 'John', None, 7] "
   ]
  },
  {
   "cell_type": "code",
   "execution_count": null,
   "id": "8cf8d41e",
   "metadata": {},
   "outputs": [],
   "source": []
  },
  {
   "cell_type": "markdown",
   "id": "689e7f0a",
   "metadata": {},
   "source": [
    "#### Q8: Write a UDF that takes list as input and returns sum of all numbers (exclude bool) and count of all str \n",
    "[2, 3, 'Py', '10', 1, 'SQL', 5.5, True, 3, 'John', None, 7] \n",
    "    \n",
    "#### Hint:\n",
    "\n",
    "def my_func:\n",
    "    # your code\n",
    "        \n",
    "my_func(l1)\n",
    "#### output --> {'Sum': xxx, 'Count_of_Strs': xxx}"
   ]
  },
  {
   "cell_type": "code",
   "execution_count": null,
   "id": "b76910be",
   "metadata": {},
   "outputs": [],
   "source": []
  },
  {
   "cell_type": "code",
   "execution_count": null,
   "id": "8648ce03",
   "metadata": {},
   "outputs": [],
   "source": []
  },
  {
   "cell_type": "code",
   "execution_count": null,
   "id": "74502d17",
   "metadata": {},
   "outputs": [],
   "source": []
  },
  {
   "cell_type": "code",
   "execution_count": null,
   "id": "64715e88",
   "metadata": {},
   "outputs": [],
   "source": []
  },
  {
   "cell_type": "code",
   "execution_count": null,
   "id": "7475a4e1",
   "metadata": {},
   "outputs": [],
   "source": []
  },
  {
   "cell_type": "code",
   "execution_count": null,
   "id": "161f36de",
   "metadata": {},
   "outputs": [],
   "source": []
  },
  {
   "cell_type": "code",
   "execution_count": null,
   "id": "ea9409a5",
   "metadata": {},
   "outputs": [],
   "source": []
  }
 ],
 "metadata": {
  "kernelspec": {
   "display_name": "Python 3 (ipykernel)",
   "language": "python",
   "name": "python3"
  },
  "language_info": {
   "codemirror_mode": {
    "name": "ipython",
    "version": 3
   },
   "file_extension": ".py",
   "mimetype": "text/x-python",
   "name": "python",
   "nbconvert_exporter": "python",
   "pygments_lexer": "ipython3",
   "version": "3.9.12"
  }
 },
 "nbformat": 4,
 "nbformat_minor": 5
}
