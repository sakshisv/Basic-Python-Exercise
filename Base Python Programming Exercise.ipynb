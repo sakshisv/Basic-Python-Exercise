{
 "cells": [
  {
   "cell_type": "markdown",
   "id": "2dcd7af0",
   "metadata": {},
   "source": [
    "## Python Basic Programming Exercises"
   ]
  },
  {
   "cell_type": "code",
   "execution_count": 1,
   "id": "ef4e162b",
   "metadata": {},
   "outputs": [],
   "source": [
    "# Q1: What is the output of following expression\n",
    "#     5 + 4 * 9 % (3 + 1) / 6 - 1"
   ]
  },
  {
   "cell_type": "code",
   "execution_count": null,
   "id": "b7653609",
   "metadata": {},
   "outputs": [],
   "source": [
    "5 + 4 * 9 % (3 + 1) / 6 - 1\n",
    "5 + 4 * 9 % 4 / 6 - 1\n",
    "5 + 36 % 4 / 6 - 1\n",
    "5 + 0 / 6 - 1\n",
    "5 + 0.0 - 1\n",
    "5.0 - 1\n",
    "4.0"
   ]
  },
  {
   "cell_type": "markdown",
   "id": "e976b341",
   "metadata": {},
   "source": [
    "#### Q2: Write a program to check if a Number is Odd or Even. Take number as a input from user at runtime."
   ]
  },
  {
   "cell_type": "code",
   "execution_count": null,
   "id": "970c5cd4",
   "metadata": {},
   "outputs": [],
   "source": []
  },
  {
   "cell_type": "code",
   "execution_count": null,
   "id": "9eba770e",
   "metadata": {},
   "outputs": [],
   "source": []
  },
  {
   "cell_type": "code",
   "execution_count": null,
   "id": "3c6fca04",
   "metadata": {},
   "outputs": [],
   "source": []
  }
 ],
 "metadata": {
  "kernelspec": {
   "display_name": "Python 3 (ipykernel)",
   "language": "python",
   "name": "python3"
  },
  "language_info": {
   "codemirror_mode": {
    "name": "ipython",
    "version": 3
   },
   "file_extension": ".py",
   "mimetype": "text/x-python",
   "name": "python",
   "nbconvert_exporter": "python",
   "pygments_lexer": "ipython3",
   "version": "3.9.12"
  }
 },
 "nbformat": 4,
 "nbformat_minor": 5
}
